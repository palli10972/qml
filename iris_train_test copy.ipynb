{
 "cells": [
  {
   "cell_type": "code",
   "execution_count": 1,
   "id": "01757572-d520-4932-a23c-e97f8ecaf036",
   "metadata": {},
   "outputs": [],
   "source": [
    "%matplotlib inline"
   ]
  },
  {
   "cell_type": "code",
   "execution_count": 2,
   "id": "c87eabf3-5b93-49bc-b7de-7c35ac422945",
   "metadata": {},
   "outputs": [],
   "source": [
    "import pandas as pd\n",
    "import numpy as np\n",
    "from sklearn.model_selection import train_test_split\n",
    "from sklearn.svm import SVC\n",
    "from sklearn.metrics import classification_report, confusion_matrix\n",
    "import matplotlib.pyplot as plt\n",
    "import seaborn as sns"
   ]
  },
  {
   "cell_type": "code",
   "execution_count": 3,
   "id": "a1927a5f-65a0-4eb6-8f5a-503f8688b886",
   "metadata": {},
   "outputs": [],
   "source": [
    "df_iris = pd.read_csv('iris.csv')"
   ]
  },
  {
   "cell_type": "code",
   "execution_count": 4,
   "id": "777fe91d-3882-4e6d-8ed5-af4069868e05",
   "metadata": {},
   "outputs": [],
   "source": [
    "iris_data = pd.DataFrame(df_iris, columns=['SepalLengthCm', 'SepalWidthCm', 'PetalLengthCm', 'PetalWidthCm'])\n",
    "iris_target = pd.DataFrame(df_iris, columns=['Species'])"
   ]
  },
  {
   "cell_type": "code",
   "execution_count": 5,
   "id": "664b2914-cc3c-46d2-86dd-b5c5940be0f9",
   "metadata": {
    "scrolled": true
   },
   "outputs": [
    {
     "name": "stdout",
     "output_type": "stream",
     "text": [
      "Confusion Matrix\n",
      "[[13  0  0]\n",
      " [ 0 14  0]\n",
      " [ 0  0 18]]\n",
      "Classification Report\n",
      "                 precision    recall  f1-score   support\n",
      "\n",
      "    Iris-setosa       1.00      1.00      1.00        13\n",
      "Iris-versicolor       1.00      1.00      1.00        14\n",
      " Iris-virginica       1.00      1.00      1.00        18\n",
      "\n",
      "       accuracy                           1.00        45\n",
      "      macro avg       1.00      1.00      1.00        45\n",
      "   weighted avg       1.00      1.00      1.00        45\n",
      "\n",
      "Predict the flower type for data Sepal (4.4, 4.4) and Petal (4.4, 4.4)\n"
     ]
    },
    {
     "data": {
      "text/plain": [
       "array(['Iris-virginica'], dtype=object)"
      ]
     },
     "execution_count": 5,
     "metadata": {},
     "output_type": "execute_result"
    }
   ],
   "source": [
    "x = iris_data[['SepalLengthCm', 'SepalWidthCm', 'PetalLengthCm', 'PetalWidthCm']]\n",
    "y = iris_target[[\"Species\"]]\n",
    "x_train,x_test, y_train, y_test=train_test_split(x,y,test_size=0.30)\n",
    "C = 1.0\n",
    "csvm_model = SVC()\n",
    "csvm_model.fit(x_train.values, y_train.values.ravel())\n",
    "csvm_pred = csvm_model.predict(x_test.values)\n",
    "print(\"Confusion Matrix\")\n",
    "print(confusion_matrix(y_test, csvm_pred))\n",
    "print(\"Classification Report\")\n",
    "print(classification_report(y_test, csvm_pred))\n",
    "print(\"Predict the flower type for data Sepal (4.4, 4.4) and Petal (4.4, 4.4)\")\n",
    "csvm_model.predict([[4.4,4.4,4.4,4.4]])"
   ]
  },
  {
   "cell_type": "code",
   "execution_count": 6,
   "id": "a74aa38b-6289-451e-b3f8-56f411727c4c",
   "metadata": {},
   "outputs": [],
   "source": [
    "from qiskit.circuit.library import ZZFeatureMap\n",
    "from qiskit.primitives import Sampler\n",
    "from qiskit_algorithms.state_fidelities import ComputeUncompute\n",
    "from qiskit_machine_learning.kernels import FidelityQuantumKernel\n",
    "adhoc_dimension=2\n",
    "adhoc_feature_map = ZZFeatureMap(feature_dimension=adhoc_dimension, reps=2, entanglement=\"linear\") \n",
    "#classical data is encoded into qubit angles\n",
    "sampler = Sampler()\n",
    "fidelity = ComputeUncompute(sampler=sampler)\n",
    "adhoc_kernel = FidelityQuantumKernel(fidelity=fidelity, feature_map=adhoc_feature_map)"
   ]
  },
  {
   "cell_type": "code",
   "execution_count": 7,
   "id": "65a4ee9c-8717-4b3b-930b-e1b86db37312",
   "metadata": {},
   "outputs": [
    {
     "name": "stdout",
     "output_type": "stream",
     "text": [
      "Confusion Matrix\n",
      "[[10  2  1]\n",
      " [ 1 10  3]\n",
      " [ 3  0 15]]\n",
      "Classification Report\n",
      "                 precision    recall  f1-score   support\n",
      "\n",
      "    Iris-setosa       0.71      0.77      0.74        13\n",
      "Iris-versicolor       0.83      0.71      0.77        14\n",
      " Iris-virginica       0.79      0.83      0.81        18\n",
      "\n",
      "       accuracy                           0.78        45\n",
      "      macro avg       0.78      0.77      0.77        45\n",
      "   weighted avg       0.78      0.78      0.78        45\n",
      "\n",
      "Predict the flower type for data Sepal (4.4, 4.4) and Petal (4.4, 4.4)\n"
     ]
    },
    {
     "data": {
      "text/plain": [
       "array(['Iris-versicolor'], dtype=object)"
      ]
     },
     "execution_count": 7,
     "metadata": {},
     "output_type": "execute_result"
    }
   ],
   "source": [
    "from qiskit_machine_learning.algorithms import QSVC\n",
    "\n",
    "qsvm_model = QSVC(quantum_kernel=adhoc_kernel)\n",
    "qsvm_model.fit(x_train, y_train.values.ravel())\n",
    "qsvm_pred = qsvm_model.predict(x_test)\n",
    "print(\"Confusion Matrix\")\n",
    "print(confusion_matrix(y_test, qsvm_pred))\n",
    "print(\"Classification Report\")\n",
    "print(classification_report(y_test, qsvm_pred))\n",
    "print(\"Predict the flower type for data Sepal (4.4, 4.4) and Petal (4.4, 4.4)\")\n",
    "qsvm_model.predict([[4.4,4.4,4.4,4.4]])"
   ]
  },
  {
   "cell_type": "code",
   "execution_count": null,
   "id": "3479cf04-9626-4aab-bddf-fb3ede8f29be",
   "metadata": {},
   "outputs": [],
   "source": []
  }
 ],
 "metadata": {
  "kernelspec": {
   "display_name": "Python 3 (ipykernel)",
   "language": "python",
   "name": "python3"
  },
  "language_info": {
   "codemirror_mode": {
    "name": "ipython",
    "version": 3
   },
   "file_extension": ".py",
   "mimetype": "text/x-python",
   "name": "python",
   "nbconvert_exporter": "python",
   "pygments_lexer": "ipython3",
   "version": "3.10.12"
  }
 },
 "nbformat": 4,
 "nbformat_minor": 5
}
