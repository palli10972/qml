{
 "cells": [
  {
   "cell_type": "markdown",
   "metadata": {},
   "source": [
    "# Quantum Phase Estimation"
   ]
  },
  {
   "cell_type": "markdown",
   "metadata": {},
   "source": [
    "This example provides an implementation of the Quantum Phase Estimation (QPE) algorithm using the Amazon Braket SDK.\n",
    "The Quantum Phase Estimation algorithm is designed to estimate the eigenvalues of a unitary operator $U$ [1, 2]; \n",
    "It is a very important subroutine to many quantum algorithms, most famously Shor's algorithm for factoring and the HHL algorithm (named after the physicists Harrow, Hassidim and Lloyd) for solving linear systems of equations on a quantum computer [1, 2]. \n",
    "Moreover, eigenvalue problems can be found across many disciplines and application areas, including principal component analysis (PCA) as used in machine learning or the solution of differential equations as relevant across mathematics, physics, engineering and chemistry. \n",
    "This notebook implements the Quantum Phase Estimation algorithm in code using the Amazon Braket SDK and run a simple example. \n"
   ]
  },
  {
   "cell_type": "markdown",
   "metadata": {},
   "source": [
    "## References\n",
    "\n",
    "[[1] Quantum Algorithm Implementations for Beginners](https://arxiv.org/abs/1804.03719)\n",
    "\n",
    "[[2] Wikipedia Quantum_phase_estimation_algorithm](https://en.wikipedia.org/wiki/Quantum_phase_estimation_algorithm)"
   ]
  },
  {
   "cell_type": "code",
   "execution_count": null,
   "metadata": {
    "tags": []
   },
   "outputs": [],
   "source": [
    "import matplotlib.pyplot as plt\n",
    "from braket.aws import AwsDevice\n",
    "from braket.circuits import Circuit, circuit\n",
    "from braket.devices import LocalSimulator\n",
    "\n",
    "from braket.experimental.algorithms.quantum_phase_estimation import (\n",
    "    get_quantum_phase_estimation_results,\n",
    "    run_quantum_phase_estimation,\n",
    "    quantum_phase_estimation_circuit,\n",
    ")\n",
    "\n",
    "# magic word for producing visualizations in notebook\n",
    "%matplotlib inline\n",
    "%load_ext autoreload\n",
    "%autoreload 2"
   ]
  },
  {
   "cell_type": "markdown",
   "metadata": {},
   "source": [
    "## Prepare Quantum Phase Estimation inputs\n",
    "\n",
    "The QPE algorithm requires two input register and a unitary on which you want to estimate eigenvalues. The first register is the precision register with n qubits which sets the achievable precision of results.\n",
    "The second is the query register which hosts the eigenstate."
   ]
  },
  {
   "cell_type": "code",
   "execution_count": null,
   "metadata": {
    "tags": []
   },
   "outputs": [],
   "source": [
    "# Define a callback function to apply your controlled unitary to a given circuit.\n",
    "# This is used by the Quantum Phase Estimation algorithm to apply your controlled unitary.\n",
    "# To run on a QPU this controlled unitary needs to be decomposed into gates available for a given QPU.\n",
    "def unitary_apply_cnot_func(quantum_phase_estimation_circ, control_qubit, query_qubits):\n",
    "    quantum_phase_estimation_circ.cnot(control_qubit, query_qubits)"
   ]
  },
  {
   "cell_type": "markdown",
   "metadata": {},
   "source": [
    "## Create and visualize the Quantum Phase Estimation circuit\n"
   ]
  },
  {
   "cell_type": "code",
   "execution_count": null,
   "metadata": {
    "tags": []
   },
   "outputs": [],
   "source": [
    "# Define first (precision) and second (query) registers. Qubits must be contiguous.\n",
    "# Braket simulator and Quantum Phase Estimation post procssing logic assumes contiguous qubits.\n",
    "precision_qubits = [0, 1]\n",
    "query_qubits = [2]\n",
    "\n",
    "# The query register needs to be prepared in an eigenstate depending on the unitary chosen.\n",
    "# For this example prepare the query register with Hadamard gates.\n",
    "quantum_phase_estimation_circ = Circuit().h(query_qubits)"
   ]
  },
  {
   "cell_type": "code",
   "execution_count": null,
   "metadata": {
    "tags": []
   },
   "outputs": [],
   "source": [
    "# Now that you have prepped the unitary, precision qubits, and query qubits,\n",
    "# create the quantum phase estimation circuit with all three as input.\n",
    "quantum_phase_estimation_circ = quantum_phase_estimation_circuit(\n",
    "    quantum_phase_estimation_circ, precision_qubits, query_qubits, unitary_apply_cnot_func\n",
    ")\n",
    "print(\"Quantum Phase Estimation Circuit:\")\n",
    "print(quantum_phase_estimation_circ)"
   ]
  },
  {
   "cell_type": "markdown",
   "metadata": {},
   "source": [
    "## Run on a local simulator"
   ]
  },
  {
   "cell_type": "code",
   "execution_count": null,
   "metadata": {
    "tags": []
   },
   "outputs": [],
   "source": [
    "# define device and run quantum phase estimation\n",
    "device = LocalSimulator()\n",
    "print(\"Quantum Phase Estimation Running\")\n",
    "task = run_quantum_phase_estimation(quantum_phase_estimation_circ, device)\n",
    "print(\"Quantum Phase Estimation Run Complete\")\n",
    "# pretty print results. Comment out these lines if you don't want results printed\n",
    "print(\"Quantum Phase Estimation Results:\")\n",
    "agg_result = get_quantum_phase_estimation_results(\n",
    "    task, precision_qubits, query_qubits, verbose=True\n",
    ")\n",
    "# plot probabalities\n",
    "plt.bar(agg_result[\"bitstring_keys\"], agg_result[\"probs_values\"])\n",
    "plt.xlabel(\"bitstrings\")\n",
    "plt.ylabel(\"probability\")\n",
    "plt.xticks(rotation=90)\n",
    "print(\"Measurement Counts Graph:\")"
   ]
  },
  {
   "cell_type": "markdown",
   "metadata": {},
   "source": [
    "## Run on a Managed Simulator or QPU\n",
    "The call to run on the QPU device is commented out by default and instead runs on a managed simulator. See the follow cells to switch to run on a QPU.\n",
    "Note that 1) this may take time depending on QPU availability and 2) results will be noisy relative to the simulator run."
   ]
  },
  {
   "cell_type": "code",
   "execution_count": null,
   "metadata": {
    "tags": []
   },
   "outputs": [],
   "source": [
    "# define device and run quantum phase estimation\n",
    "# managed_device = AwsDevice('arn:aws:braket:us-west-1::device/qpu/rigetti/Aspen-M-3')\n",
    "#managed_device = AwsDevice('arn:aws:braket:::device/quantum-simulator/amazon/sv1')\n",
    "managed_device = AwsDevice('arn:aws:braket:eu-west-2::device/qpu/oqc/Lucy')\n",
    "#n_shots=1000 \n",
    "n_shots=2000 #required to verify the probability\n",
    "print('Quantum Phase Estimation Running')\n",
    "task = run_quantum_phase_estimation(quantum_phase_estimation_circ, managed_device, shots=n_shots)\n",
    "print('Quantum Phase Estimation Run Complete')\n",
    "# pretty print results\n",
    "print('Quantum Phase Estimation Results:')\n",
    "agg_result = get_quantum_phase_estimation_results(task, precision_qubits, query_qubits, verbose=True)\n",
    "# plot probabalities\n",
    "plt.bar(agg_result[\"bitstring_keys\"], agg_result[\"probs_values\"])\n",
    "plt.xlabel(\"bitstrings\")\n",
    "plt.ylabel(\"probability\")\n",
    "plt.xticks(rotation=90)\n",
    "print(\"Measurement Counts Graph:\")"
   ]
  },
  {
   "cell_type": "markdown",
   "metadata": {},
   "source": [
    "Note: Charges shown are estimates based on your Amazon Braket simulator and quantum processing unit (QPU) task usage. Estimated charges shown may differ from your actual charges. Estimated charges do not factor in any discounts or credits, and you may experience additional charges based on your use of other services such as Amazon Elastic Compute Cloud (Amazon EC2)."
   ]
  },
  {
   "cell_type": "code",
   "execution_count": null,
   "metadata": {},
   "outputs": [],
   "source": []
  }
 ],
 "metadata": {
  "kernelspec": {
   "display_name": "conda_braket",
   "language": "python",
   "name": "conda_braket"
  },
  "language_info": {
   "codemirror_mode": {
    "name": "ipython",
    "version": 3
   },
   "file_extension": ".py",
   "mimetype": "text/x-python",
   "name": "python",
   "nbconvert_exporter": "python",
   "pygments_lexer": "ipython3",
   "version": "3.10.13"
  },
  "vscode": {
   "interpreter": {
    "hash": "590fab68195cf107911461461f81d5c472d3d6127f579badfcfad30f03e5cab2"
   }
  }
 },
 "nbformat": 4,
 "nbformat_minor": 4
}
