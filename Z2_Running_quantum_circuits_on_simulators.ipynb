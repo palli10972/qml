{
 "cells": [
  {
   "cell_type": "markdown",
   "metadata": {},
   "source": [
    "# Preparing a GHZ state and running the circuit on simulators"
   ]
  },
  {
   "cell_type": "code",
   "execution_count": 1,
   "metadata": {
    "ExecuteTime": {
     "end_time": "2023-08-29T21:24:10.889440Z",
     "start_time": "2023-08-29T21:24:10.676055Z"
    },
    "tags": []
   },
   "outputs": [],
   "source": [
    "# Use Braket SDK Cost Tracking to estimate the cost to run this example\n",
    "from braket.tracking import Tracker\n",
    "t = Tracker().start()"
   ]
  },
  {
   "cell_type": "markdown",
   "metadata": {},
   "source": [
    "This hello-world tutorial prepares a paradigmatic example for a multi-qubit entangled state, the so-called [GHZ state](https://en.wikipedia.org/wiki/Greenberger%E2%80%93Horne%E2%80%93Zeilinger_state) (named after the three physicists Greenberger, Horne and Zeilinger). The GHZ state is extremely non-classical, and therefore very sensitive to decoherence. Therefore, it is often used as a performance benchmark for today's hardware. Moreover, in many quantum information protocols it is used as a resource for quantum error correction, quantum communication and quantum metrology. \n",
    "\n",
    "Amazon Braket offers several classical simulators including a local simulator and three on-demand simulators: a full state-vector simulator SV1, a density matrix simulator DM1, and a tensor-network simulator TN1. You can seamlessly swap between different devices without any modifications to the circuit definition, as shown below, by just re-defining the device object. For additional information about simulators, see the [Amazon Braket Dev Guide](https://docs.aws.amazon.com/braket/latest/developerguide/braket-devices.html#choose-a-simulator)."
   ]
  },
  {
   "cell_type": "code",
   "execution_count": 2,
   "metadata": {
    "ExecuteTime": {
     "end_time": "2023-08-29T21:24:13.358325Z",
     "start_time": "2023-08-29T21:24:10.738332Z"
    },
    "tags": []
   },
   "outputs": [],
   "source": [
    "# general imports\n",
    "import matplotlib.pyplot as plt\n",
    "# magic word for producing visualizations in notebook\n",
    "%matplotlib inline\n",
    "import time\n",
    "import numpy as np\n",
    "\n",
    "# AWS imports: Import Braket SDK modules\n",
    "from braket.circuits import Circuit, Observable\n",
    "from braket.devices import LocalSimulator\n",
    "from braket.aws import AwsDevice"
   ]
  },
  {
   "cell_type": "markdown",
   "metadata": {},
   "source": [
    "### Problem: Prepare a GHZ State"
   ]
  },
  {
   "cell_type": "markdown",
   "metadata": {},
   "source": [
    "Goal: Prepare an $N$-qubit GHZ state: \n",
    "$$\\left|0,0, ...\\right> \\rightarrow \\left|\\mathrm{GHZ}\\right> = \\frac{1}{\\sqrt{2}}\\left(\\left|0,0, ...\\right> + \\left|1,1, ...\\right>\\right).$$"
   ]
  },
  {
   "cell_type": "markdown",
   "metadata": {},
   "source": [
    "The GHZ state is a quantum superposition of all subsystems being in state 0 with all of them being in state 1 (as often discussed in the famous Gedanken experiment of a cat being dead and alive at the same time). The GHZ state is a maximally entangled quantum state. \n",
    "\n",
    "To prepare this state, build and run the following circuit using a single-qubit Hadamard gate (denoted as H) acting on the first qubit followed by a series of two-qubit CNOT gates: "
   ]
  },
  {
   "cell_type": "markdown",
   "metadata": {},
   "source": [
    "<div align=\"center\">\n",
    "<img src=\"circuit.png\" width=\"300\"/>\n",
    "</div>"
   ]
  },
  {
   "cell_type": "markdown",
   "metadata": {},
   "source": [
    "### Setup Circuit"
   ]
  },
  {
   "cell_type": "code",
   "execution_count": 3,
   "metadata": {
    "ExecuteTime": {
     "end_time": "2023-08-29T21:24:13.366607Z",
     "start_time": "2023-08-29T21:24:13.357969Z"
    },
    "tags": []
   },
   "outputs": [],
   "source": [
    "# function to build a GHZ state\n",
    "def ghz_circuit(n_qubits):\n",
    "    \"\"\"\n",
    "    function to return a GHZ circuit ansatz\n",
    "    input: number of qubits\n",
    "    \"\"\"\n",
    "\n",
    "    # instantiate circuit object\n",
    "    circuit = Circuit()\n",
    "    \n",
    "    # add Hadamard gate on first qubit\n",
    "    circuit.h(0)\n",
    "\n",
    "    # apply series of CNOT gates\n",
    "    for ii in range(0, n_qubits-1):\n",
    "        circuit.cnot(control=ii, target=ii+1)\n",
    "\n",
    "    return circuit"
   ]
  },
  {
   "cell_type": "code",
   "execution_count": 4,
   "metadata": {
    "ExecuteTime": {
     "end_time": "2023-08-29T21:24:13.375222Z",
     "start_time": "2023-08-29T21:24:13.371961Z"
    },
    "tags": []
   },
   "outputs": [],
   "source": [
    "# define circuit\n",
    "n_qubits = 10\n",
    "ghz = ghz_circuit(n_qubits)"
   ]
  },
  {
   "cell_type": "code",
   "execution_count": 5,
   "metadata": {
    "ExecuteTime": {
     "end_time": "2023-08-29T21:24:13.399874Z",
     "start_time": "2023-08-29T21:24:13.380027Z"
    },
    "tags": []
   },
   "outputs": [
    {
     "name": "stdout",
     "output_type": "stream",
     "text": [
      "T  : |0|1|2|3|4|5|6|7|8|9|\n",
      "                          \n",
      "q0 : -H-C-----------------\n",
      "        |                 \n",
      "q1 : ---X-C---------------\n",
      "          |               \n",
      "q2 : -----X-C-------------\n",
      "            |             \n",
      "q3 : -------X-C-----------\n",
      "              |           \n",
      "q4 : ---------X-C---------\n",
      "                |         \n",
      "q5 : -----------X-C-------\n",
      "                  |       \n",
      "q6 : -------------X-C-----\n",
      "                    |     \n",
      "q7 : ---------------X-C---\n",
      "                      |   \n",
      "q8 : -----------------X-C-\n",
      "                        | \n",
      "q9 : -------------------X-\n",
      "\n",
      "T  : |0|1|2|3|4|5|6|7|8|9|\n"
     ]
    }
   ],
   "source": [
    "# print circuit\n",
    "print(ghz)"
   ]
  },
  {
   "cell_type": "markdown",
   "metadata": {},
   "source": [
    "### Local Simulator"
   ]
  },
  {
   "cell_type": "markdown",
   "metadata": {},
   "source": [
    "First, the circuit is run locally using the local simulator."
   ]
  },
  {
   "cell_type": "code",
   "execution_count": 6,
   "metadata": {
    "ExecuteTime": {
     "end_time": "2023-08-29T21:24:13.491183Z",
     "start_time": "2023-08-29T21:24:13.386240Z"
    },
    "tags": []
   },
   "outputs": [],
   "source": [
    "# set up device: Local Simulator\n",
    "device = LocalSimulator()"
   ]
  },
  {
   "cell_type": "code",
   "execution_count": 7,
   "metadata": {
    "ExecuteTime": {
     "end_time": "2023-08-29T21:24:13.576073Z",
     "start_time": "2023-08-29T21:24:13.538446Z"
    },
    "tags": []
   },
   "outputs": [
    {
     "name": "stdout",
     "output_type": "stream",
     "text": [
      "Counter({'1111111111': 512, '0000000000': 488})\n"
     ]
    }
   ],
   "source": [
    "# run circuit\n",
    "result = device.run(ghz, shots=1000).result()\n",
    "# get measurement shots\n",
    "counts = result.measurement_counts\n",
    "# print counts\n",
    "print(counts)"
   ]
  },
  {
   "cell_type": "code",
   "execution_count": 8,
   "metadata": {
    "ExecuteTime": {
     "end_time": "2023-08-29T21:24:13.726047Z",
     "start_time": "2023-08-29T21:24:13.583502Z"
    },
    "tags": []
   },
   "outputs": [
    {
     "data": {
      "text/plain": [
       "Text(0, 0.5, 'counts')"
      ]
     },
     "execution_count": 8,
     "metadata": {},
     "output_type": "execute_result"
    },
    {
     "data": {
      "image/png": "[encoded data removed]",
      "text/plain": [
       "<Figure size 640x480 with 1 Axes>"
      ]
     },
     "metadata": {},
     "output_type": "display_data"
    }
   ],
   "source": [
    "# plot using Counter\n",
    "plt.bar(counts.keys(), counts.values())\n",
    "plt.xlabel('bitstrings')\n",
    "plt.ylabel('counts')"
   ]
  },
  {
   "cell_type": "markdown",
   "metadata": {},
   "source": [
    "As opposed to quantum hardware where only measurement shots can be obtained, with a classical simulator you can access the full state vector, amplitudes and expectation values of certain observables by assigning the corresponding result types. To do so, append the result types to the circuit before submitting it to run. This can be very useful for debugging. \n",
    "\n",
    "The example code below outputs the state vector, the expectation value of $Z\\otimes Z\\otimes Z$, and the amplitude of the $|111\\rangle$ state of a three-qubit GHZ state. \n",
    "\n",
    "To reiterate, the following output is expected:\n",
    "$$\\left|\\mathrm{GHZ}\\right> = \\frac{1}{\\sqrt{2}}\\left(\\left|0,0,0\\right> + \\left|1,1,1\\right>\\right) = \\left[\\frac{1}{\\sqrt{2}},0,0,0,0,0,0,\\frac{1}{\\sqrt{2}}\\right],$$\n",
    "\n",
    "for which $\\left<ZZZ\\right>=0$ and $\\left<111|\\mathrm{GHZ}\\right>=\\frac{1}{\\sqrt{2}}$."
   ]
  },
  {
   "cell_type": "code",
   "execution_count": 9,
   "metadata": {
    "ExecuteTime": {
     "end_time": "2023-08-29T21:24:13.733716Z",
     "start_time": "2023-08-29T21:24:13.726328Z"
    },
    "tags": []
   },
   "outputs": [
    {
     "name": "stdout",
     "output_type": "stream",
     "text": [
      "T  : |0|1|2|   Result Types   |\n",
      "                               \n",
      "q0 : -H-C---Expectation(Z@Z@Z)-\n",
      "        |   |                  \n",
      "q1 : ---X-C-Expectation(Z@Z@Z)-\n",
      "          | |                  \n",
      "q2 : -----X-Expectation(Z@Z@Z)-\n",
      "\n",
      "T  : |0|1|2|   Result Types   |\n",
      "\n",
      "Additional result types: StateVector, Amplitude(111)\n"
     ]
    }
   ],
   "source": [
    "# define circuit\n",
    "n_qubits = 3\n",
    "ghz = ghz_circuit(n_qubits)      \n",
    "\n",
    "# add the state_vector ResultType\n",
    "ghz.state_vector()\n",
    "# add the Z \\otimes Z \\otimes Z expectation value\n",
    "ghz.expectation(Observable.Z() @ Observable.Z() @ Observable.Z(), target=[0,1,2])\n",
    "# add the amplitude for |111>\n",
    "ghz.amplitude(state=[\"111\"])\n",
    "# print circuit including requested result types\n",
    "print(ghz)"
   ]
  },
  {
   "cell_type": "code",
   "execution_count": 10,
   "metadata": {
    "ExecuteTime": {
     "end_time": "2023-08-29T21:24:13.827383Z",
     "start_time": "2023-08-29T21:24:13.754267Z"
    },
    "tags": []
   },
   "outputs": [
    {
     "name": "stdout",
     "output_type": "stream",
     "text": [
      "Final EXACT state vector:\n",
      " [0.70710678+0.j 0.        +0.j 0.        +0.j 0.        +0.j\n",
      " 0.        +0.j 0.        +0.j 0.        +0.j 0.70710678+0.j]\n",
      "Expectation value <ZZZ>: 0.0\n",
      "Amplitude <111|Final state>: {'111': (0.7071067811865475+0j)}\n"
     ]
    }
   ],
   "source": [
    "# run the circuit and output the results\n",
    "task = device.run(ghz, shots=0)\n",
    "result = task.result()\n",
    "\n",
    "# print results\n",
    "print(\"Final EXACT state vector:\\n\", result.values[0])\n",
    "print(\"Expectation value <ZZZ>:\", np.round(result.values[1], 5))\n",
    "print(\"Amplitude <111|Final state>:\", result.values[2])"
   ]
  },
  {
   "cell_type": "markdown",
   "metadata": {},
   "source": [
    "Clearly the expected results with perfect correlations between the three qubits making up the GHZ state are obtained.\n",
    "\n",
    "Note that you can only request state vector and amplitude when shots = 0 for a classical simulator. When shots = 0 for a simulator, you get the exact values of probability, expectation values, and variance, as derived from the full wave function. When shots > 0, you cannot access the full state vector, but you can get approximate expectation values as taken from measurement samples. Note that Amazon Braket also supports probability, sample, expectation, and variance as result types for QPU devices."
   ]
  },
  {
   "cell_type": "markdown",
   "metadata": {},
   "source": [
    "### The On-Demand Simulators"
   ]
  },
  {
   "cell_type": "markdown",
   "metadata": {},
   "source": [
    "Apart from the local simulator, you can also run your circuit on an on-demand simulator. This approach adds some latency overhead, but is beneficial for larger circuits by leveraging the optimized cloud hardware infrastructure. Moreover, all your results will be stored reliably in S3.\n",
    "\n",
    "Amazon Braket provides three on-demand simulators:\n",
    "* SV1\n",
    "\n",
    "    State vector simulator  supports simulations of circuits with up to 34 qubits, calculates and keeps track of the full state vector evolution.\n",
    "* TN1\n",
    "\n",
    "    Tensor-network simulator represents each gate in a circuit as a tensor. TN1 can simulate a larger number of qubits for circuits with local gates or other special structure as compared with SV1 and DM1, but typically is slower for circuits with long-range or all-to-all gate structure.\n",
    "* DM1\n",
    "\n",
    "    Density matrix simulator stores the full density matrix of the system and sequentially applies gates and noise operations of the circuit."
   ]
  },
  {
   "cell_type": "code",
   "execution_count": 11,
   "metadata": {
    "ExecuteTime": {
     "end_time": "2023-08-29T21:24:14.187921Z",
     "start_time": "2023-08-29T21:24:13.819309Z"
    },
    "tags": []
   },
   "outputs": [],
   "source": [
    "# set up the on-demand simulator SV1\n",
    "device = AwsDevice(\"arn:aws:braket:::device/quantum-simulator/amazon/sv1\")"
   ]
  },
  {
   "cell_type": "code",
   "execution_count": 12,
   "metadata": {
    "ExecuteTime": {
     "end_time": "2023-08-29T21:24:18.098460Z",
     "start_time": "2023-08-29T21:24:14.195400Z"
    },
    "tags": []
   },
   "outputs": [
    {
     "name": "stdout",
     "output_type": "stream",
     "text": [
      "Counter({'000000000000000': 512, '111111111111111': 488})\n",
      "Counts for all-zero bitstring: 512\n",
      "Counts for all-one bitstring: 488\n"
     ]
    },
    {
     "data": {
      "image/png": "[encoded data removed]",
      "text/plain": [
       "<Figure size 640x480 with 1 Axes>"
      ]
     },
     "metadata": {},
     "output_type": "display_data"
    }
   ],
   "source": [
    "# define a 15-qubit GHZ circuit\n",
    "n_qubits = 15\n",
    "ghz = ghz_circuit(n_qubits)\n",
    "\n",
    "# run GHZ circuit on SV1\n",
    "result = device.run(ghz, shots=1000).result()\n",
    "counts = result.measurement_counts\n",
    "print(counts)\n",
    "\n",
    "# plot using Counter\n",
    "plt.bar(counts.keys(), counts.values())\n",
    "plt.xlabel('bitstrings')\n",
    "plt.ylabel('counts')\n",
    "\n",
    "# print counts of all-zero-string\n",
    "print('Counts for all-zero bitstring:', counts['0'*n_qubits])\n",
    "# print counts of all-one-string\n",
    "print('Counts for all-one bitstring:', counts['1'*n_qubits])"
   ]
  },
  {
   "cell_type": "markdown",
   "metadata": {},
   "source": [
    "The following example demonstrates that TN1 can easily simulate GHZ circuits with up to 50 qubits due to the sparse, nearest neighbor gate structure."
   ]
  },
  {
   "cell_type": "code",
   "execution_count": 13,
   "metadata": {
    "ExecuteTime": {
     "end_time": "2023-08-29T21:24:18.446589Z",
     "start_time": "2023-08-29T21:24:18.110041Z"
    },
    "tags": []
   },
   "outputs": [],
   "source": [
    "# set up the on-demand simulator TN1\n",
    "device = AwsDevice(\"arn:aws:braket:::device/quantum-simulator/amazon/tn1\")"
   ]
  },
  {
   "cell_type": "code",
   "execution_count": 14,
   "metadata": {
    "ExecuteTime": {
     "end_time": "2023-08-29T21:24:27.740479Z",
     "start_time": "2023-08-29T21:24:18.456022Z"
    },
    "tags": []
   },
   "outputs": [
    {
     "name": "stdout",
     "output_type": "stream",
     "text": [
      "Counter({'00000000000000000000000000000000000000000000000000': 505, '11111111111111111111111111111111111111111111111111': 495})\n",
      "Counts for all-zero bitstring: 505\n",
      "Counts for all-one bitstring: 495\n"
     ]
    }
   ],
   "source": [
    "# define a larger GHZ circuit\n",
    "n_qubits = 50\n",
    "ghz = ghz_circuit(n_qubits)\n",
    "\n",
    "# run the same circuit on TN1\n",
    "result = device.run(ghz, shots=1000).result()\n",
    "counts = result.measurement_counts\n",
    "print(counts)\n",
    "\n",
    "# print counts of all-zero-string\n",
    "print('Counts for all-zero bitstring:', counts['0'*n_qubits])\n",
    "# print counts of all-one-string\n",
    "print('Counts for all-one bitstring:', counts['1'*n_qubits])"
   ]
  },
  {
   "cell_type": "markdown",
   "metadata": {},
   "source": [
    "__NOTE__: Use unique quantum task ID to look up quantum task details in AWS console."
   ]
  },
  {
   "cell_type": "code",
   "execution_count": 15,
   "metadata": {
    "ExecuteTime": {
     "end_time": "2023-08-29T21:24:27.744161Z",
     "start_time": "2023-08-29T21:24:27.739426Z"
    },
    "tags": []
   },
   "outputs": [
    {
     "name": "stdout",
     "output_type": "stream",
     "text": [
      "Number of qubits: 50\n"
     ]
    }
   ],
   "source": [
    "# print unique TASK ID (task = execution of individual circuit)\n",
    "task_id = result.task_metadata.id\n",
    "# recover other metadata information such as number of qubits\n",
    "n = result.task_metadata.deviceParameters.paradigmParameters.qubitCount\n",
    "# print('Task ID:', task_id)\n",
    "print('Number of qubits:', n)"
   ]
  },
  {
   "cell_type": "code",
   "execution_count": 16,
   "metadata": {
    "ExecuteTime": {
     "end_time": "2023-08-29T21:24:27.892584Z",
     "start_time": "2023-08-29T21:24:27.747219Z"
    },
    "tags": []
   },
   "outputs": [
    {
     "name": "stdout",
     "output_type": "stream",
     "text": [
      "Quantum Task Summary\n",
      "{'arn:aws:braket:::device/quantum-simulator/amazon/sv1': {'shots': 1000, 'tasks': {'COMPLETED': 1}, 'execution_duration': datetime.timedelta(microseconds=8000), 'billed_execution_duration': datetime.timedelta(seconds=3)}, 'arn:aws:braket:::device/quantum-simulator/amazon/tn1': {'shots': 1000, 'tasks': {'COMPLETED': 1}, 'execution_duration': datetime.timedelta(seconds=4, microseconds=627000), 'billed_execution_duration': datetime.timedelta(seconds=4, microseconds=627000)}}\n",
      "Note: Charges shown are estimates based on your Amazon Braket simulator and quantum processing unit (QPU) task usage. Estimated charges shown may differ from your actual charges. Estimated charges do not factor in any discounts or credits, and you may experience additional charges based on your use of other services such as Amazon Elastic Compute Cloud (Amazon EC2).\n",
      "Estimated cost to run this example: 0.02 USD\n"
     ]
    }
   ],
   "source": [
    "print(\"Quantum Task Summary\")\n",
    "print(t.quantum_tasks_statistics())\n",
    "print('Note: Charges shown are estimates based on your Amazon Braket simulator and quantum processing unit (QPU) task usage. Estimated charges shown may differ from your actual charges. Estimated charges do not factor in any discounts or credits, and you may experience additional charges based on your use of other services such as Amazon Elastic Compute Cloud (Amazon EC2).')\n",
    "print(f\"Estimated cost to run this example: {t.qpu_tasks_cost() + t.simulator_tasks_cost():.2f} USD\")"
   ]
  },
  {
   "cell_type": "code",
   "execution_count": null,
   "metadata": {},
   "outputs": [],
   "source": []
  }
 ],
 "metadata": {
  "kernelspec": {
   "display_name": "conda_braket",
   "language": "python",
   "name": "conda_braket"
  },
  "language_info": {
   "codemirror_mode": {
    "name": "ipython",
    "version": 3
   },
   "file_extension": ".py",
   "mimetype": "text/x-python",
   "name": "python",
   "nbconvert_exporter": "python",
   "pygments_lexer": "ipython3",
   "version": "3.10.13"
  },
  "vscode": {
   "interpreter": {
    "hash": "590fab68195cf107911461461f81d5c472d3d6127f579badfcfad30f03e5cab2"
   }
  }
 },
 "nbformat": 4,
 "nbformat_minor": 4
}
