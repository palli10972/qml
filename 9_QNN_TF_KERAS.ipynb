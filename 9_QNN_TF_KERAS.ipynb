{
 "cells": [
  {
   "cell_type": "code",
   "execution_count": null,
   "id": "17d8201f-a3b4-4def-ac3a-a420dc324b13",
   "metadata": {
    "tags": []
   },
   "outputs": [],
   "source": [
    "# general imports\n",
    "import matplotlib.pyplot as plt\n",
    "# magic word for producing visualizations in notebook\n",
    "%matplotlib inline\n",
    "import time\n",
    "import numpy as np\n",
    "\n",
    "# AWS imports: Import Braket SDK modules\n",
    "from braket.circuits import Circuit, Observable\n",
    "from braket.devices import LocalSimulator\n",
    "from braket.aws import AwsDevice"
   ]
  },
  {
   "cell_type": "markdown",
   "id": "05ac77bc-6f3e-4d02-b597-d8e8821cb07c",
   "metadata": {
    "tags": []
   },
   "source": [
    "Turning quantum nodes into Keras Layers\n",
    "=======================================\n",
    "\n",
    ".. meta::\n",
    "    :property=\"og:description\": Learn how to create hybrid ML models in PennyLane using Keras\n",
    "    :property=\"og:image\": https://pennylane.ai/qml/_static/demonstration_assets//Keras_logo.png\n",
    "\n",
    ".. related::\n",
    "\n",
    "   tutorial_qnn_module_torch Turning quantum nodes into Torch Layers\n",
    "\n",
    "*Author: Tom Bromley — Posted: 02 November 2020. Last updated: 28 January 2021.*\n",
    "\n",
    "Creating neural networks in `Keras <https://keras.io/>`__ is easy. Models are constructed from\n",
    "elementary *layers* and can be trained using a high-level API. For example, the following code\n",
    "defines a two-layer network that could be used for binary classification:"
   ]
  },
  {
   "cell_type": "code",
   "execution_count": null,
   "id": "5676eb1f-9b46-4251-aa1b-c649391af48d",
   "metadata": {
    "tags": []
   },
   "outputs": [],
   "source": [
    "#!pip install tensorflow"
   ]
  },
  {
   "cell_type": "code",
   "execution_count": null,
   "id": "dd10c132-261e-4b70-bb91-99bab247f887",
   "metadata": {
    "tags": []
   },
   "outputs": [],
   "source": [
    "#!pip install scikit-learn"
   ]
  },
  {
   "cell_type": "code",
   "execution_count": null,
   "id": "d5cb4d2a-1018-4424-bc79-785567598cd5",
   "metadata": {
    "tags": []
   },
   "outputs": [],
   "source": [
    "import tensorflow as tf\n",
    "\n",
    "tf.keras.backend.set_floatx('float64')\n",
    "\n",
    "layer_1 = tf.keras.layers.Dense(2)\n",
    "layer_2 = tf.keras.layers.Dense(2, activation=\"softmax\")\n",
    "\n",
    "model = tf.keras.Sequential([layer_1, layer_2])\n",
    "model.compile(loss=\"mae\")"
   ]
  },
  {
   "cell_type": "markdown",
   "id": "29583ad4-856b-4208-93ae-ef55febe5b65",
   "metadata": {
    "tags": []
   },
   "source": [
    "# The model can then be trained using `model.fit()\n",
    "# <https://www.tensorflow.org/api_docs/python/tf/keras/Model#fit>`__.\n",
    "#\n",
    "# **What if we want to add a quantum layer to our model?** This is possible in PennyLane:\n",
    "# :doc:`QNodes <../glossary/hybrid_computation>` can be converted into Keras layers and combined\n",
    "# with the wide range of built-in classical\n",
    "# `layers <https://www.tensorflow.org/api_docs/python/tf/keras/layers>`__ to create truly hybrid\n",
    "# models. This tutorial will guide you through a simple example to show you how it's done!\n",
    "#\n",
    "# .. note::\n",
    "#\n",
    "#     A similar demo explaining how to\n",
    "#     :doc:`turn quantum nodes into Torch layers <tutorial_qnn_module_torch>`\n",
    "#     is also available.\n",
    "#\n",
    "# Fixing the dataset and problem\n",
    "# ------------------------------\n",
    "#\n",
    "# Let us begin by choosing a simple dataset and problem to allow us to focus on how the hybrid\n",
    "# model is constructed. Our objective is to classify points generated from scikit-learn's\n",
    "# binary-class\n",
    "# `make_moons() <https://scikit-learn.org/stable/modules/generated/sklearn.datasets.make_moons.html>`__ dataset:"
   ]
  },
  {
   "cell_type": "code",
   "execution_count": null,
   "id": "c9bacb39-e388-4453-b4cb-61fad26a311b",
   "metadata": {
    "tags": []
   },
   "outputs": [],
   "source": [
    "import matplotlib.pyplot as plt\n",
    "import numpy as np\n",
    "from sklearn.datasets import make_moons\n",
    "\n",
    "# Set random seeds\n",
    "np.random.seed(42)\n",
    "tf.random.set_seed(42)\n",
    "\n",
    "X, y = make_moons(n_samples=200, noise=0.1)\n",
    "y_hot = tf.keras.utils.to_categorical(y, num_classes=2)  # one-hot encoded labels\n",
    "\n",
    "c = [\"#1f77b4\" if y_ == 0 else \"#ff7f0e\" for y_ in y]  # colours for each class\n",
    "plt.axis(\"off\")\n",
    "plt.scatter(X[:, 0], X[:, 1], c=c)\n",
    "plt.show()"
   ]
  },
  {
   "cell_type": "markdown",
   "id": "866dbb74-f65f-4bf6-a70f-1e92bc1f8bc4",
   "metadata": {
    "tags": []
   },
   "source": [
    "# Defining a QNode\n",
    "# ----------------\n",
    "#\n",
    "# Our next step is to define the QNode that we want to interface with Keras. Any combination of\n",
    "# device, operations and measurements that is valid in PennyLane can be used to compose the\n",
    "# QNode. However, the QNode arguments must satisfy additional :doc:`conditions\n",
    "# <code/api/pennylane.qnn.KerasLayer>` including having an argument called ``inputs``. All other\n",
    "# arguments must be arrays or tensors and are treated as trainable weights in the model. We fix a\n",
    "# two-qubit QNode using the\n",
    "# :doc:`default.qubit <code/api/pennylane.devices.default_qubit.DefaultQubit>` simulator and\n",
    "# operations from the :doc:`templates <introduction/templates>` module."
   ]
  },
  {
   "cell_type": "code",
   "execution_count": null,
   "id": "5bfc9a07-209d-4492-842d-55e1e550cd84",
   "metadata": {},
   "outputs": [],
   "source": [
    "# Quantum simulator/QPU\n",
    "#dev = qml.device(\"lightning.qubit\", wires=n_qubits)\n",
    "#dev = qml.device(\"default.qubit\", wires=4)\n",
    "#n_shots=1000\n",
    "n_shots=2000\n",
    "n_qubits=2\n",
    "#dev = qml.device(\"lightning.qubit\", wires=tot_qubits)\n",
    "dev = qml.device('braket.aws.qubit', device_arn='arn:aws:braket:eu-west-2::device/qpu/oqc/Lucy', wires=n_qubits, shots=n_shots)\n",
    "#dev = qml.device('braket.aws.qubit', device_arn='arn:aws:braket:::device/quantum-simulator/amazon/sv1', wires=n_qubits, shots=n_shots)"
   ]
  },
  {
   "cell_type": "code",
   "execution_count": null,
   "id": "87037185-2c16-4126-8317-5671d09b54db",
   "metadata": {
    "tags": []
   },
   "outputs": [],
   "source": [
    "import pennylane as qml\n",
    "\n",
    "@qml.qnode(dev)\n",
    "def qnode(inputs, weights):\n",
    "    qml.AngleEmbedding(inputs, wires=range(n_qubits))\n",
    "    qml.BasicEntanglerLayers(weights, wires=range(n_qubits))\n",
    "    return [qml.expval(qml.PauliZ(wires=i)) for i in range(n_qubits)]"
   ]
  },
  {
   "cell_type": "code",
   "execution_count": null,
   "id": "5c50d29b-0e87-442b-83eb-048887f8725d",
   "metadata": {
    "tags": []
   },
   "outputs": [],
   "source": [
    "n_layers = 6\n",
    "weight_shapes = {\"weights\": (n_layers, n_qubits)}"
   ]
  },
  {
   "cell_type": "code",
   "execution_count": null,
   "id": "5c53393f-62bd-471c-a297-bd7665560497",
   "metadata": {
    "tags": []
   },
   "outputs": [],
   "source": [
    "qlayer = qml.qnn.KerasLayer(qnode, weight_shapes, output_dim=n_qubits)"
   ]
  },
  {
   "cell_type": "code",
   "execution_count": null,
   "id": "555787e3-4e5c-4a2b-a900-5be8e97e3306",
   "metadata": {
    "tags": []
   },
   "outputs": [],
   "source": [
    "clayer_1 = tf.keras.layers.Dense(2)\n",
    "clayer_2 = tf.keras.layers.Dense(2, activation=\"softmax\")\n",
    "model = tf.keras.models.Sequential([clayer_1, qlayer, clayer_2])"
   ]
  },
  {
   "cell_type": "code",
   "execution_count": null,
   "id": "432bc810-3c38-4a2f-9c06-79b23fc607ea",
   "metadata": {
    "tags": []
   },
   "outputs": [],
   "source": [
    "opt = tf.keras.optimizers.SGD(learning_rate=0.2)\n",
    "model.compile(opt, loss=\"mae\", metrics=[\"accuracy\"])"
   ]
  },
  {
   "cell_type": "code",
   "execution_count": null,
   "id": "fdbc8500-2a07-4c3a-a169-bccccf32df0c",
   "metadata": {
    "tags": []
   },
   "outputs": [],
   "source": [
    "fitting = model.fit(X, y_hot, epochs=6, batch_size=5, validation_split=0.25, verbose=2)"
   ]
  },
  {
   "cell_type": "code",
   "execution_count": null,
   "id": "a363ef67-683f-4b8b-86c1-7d57867a0d51",
   "metadata": {
    "tags": []
   },
   "outputs": [],
   "source": [
    "clayer_1 = tf.keras.layers.Dense(4)\n",
    "qlayer_1 = qml.qnn.KerasLayer(qnode, weight_shapes, output_dim=n_qubits)\n",
    "qlayer_2 = qml.qnn.KerasLayer(qnode, weight_shapes, output_dim=n_qubits)\n",
    "clayer_2 = tf.keras.layers.Dense(2, activation=\"softmax\")\n",
    "\n",
    "# construct the model\n",
    "inputs = tf.keras.Input(shape=(2,))\n",
    "x = clayer_1(inputs)\n",
    "x_1, x_2 = tf.split(x, 2, axis=1)\n",
    "x_1 = qlayer_1(x_1)\n",
    "x_2 = qlayer_2(x_2)\n",
    "x = tf.concat([x_1, x_2], axis=1)\n",
    "outputs = clayer_2(x)\n",
    "\n",
    "model = tf.keras.Model(inputs=inputs, outputs=outputs)"
   ]
  },
  {
   "cell_type": "code",
   "execution_count": null,
   "id": "fab29aa4-4c26-4b3a-b450-b129d393bbc2",
   "metadata": {
    "tags": []
   },
   "outputs": [],
   "source": [
    "opt = tf.keras.optimizers.SGD(learning_rate=0.2)\n",
    "model.compile(opt, loss=\"mae\", metrics=[\"accuracy\"])\n",
    "\n",
    "fitting = model.fit(X, y_hot, epochs=6, batch_size=5, validation_split=0.25, verbose=2)"
   ]
  },
  {
   "cell_type": "code",
   "execution_count": null,
   "id": "c76d56d9-9807-4e92-b419-4713f984ebc5",
   "metadata": {},
   "outputs": [],
   "source": []
  }
 ],
 "metadata": {
  "kernelspec": {
   "display_name": "conda_braket",
   "language": "python",
   "name": "conda_braket"
  },
  "language_info": {
   "codemirror_mode": {
    "name": "ipython",
    "version": 3
   },
   "file_extension": ".py",
   "mimetype": "text/x-python",
   "name": "python",
   "nbconvert_exporter": "python",
   "pygments_lexer": "ipython3",
   "version": "3.10.13"
  }
 },
 "nbformat": 4,
 "nbformat_minor": 5
}
