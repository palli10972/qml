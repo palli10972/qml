{
 "cells": [
  {
   "cell_type": "markdown",
   "id": "b1c356b7-9e45-42b4-879c-d5b457eba578",
   "metadata": {},
   "source": [
    "### Steps to remember\n",
    "#### For classical\n",
    "1. import modules\n",
    "2. import data as a csv file\n",
    "3. distinguish data and target that is , labeling\n",
    "4. then define x and y axis with data and target\n",
    "5. distribute them as train and test data\n",
    "6. define model\n",
    "7. fit the model\n",
    "8. predict the using x_test\n",
    "9. confusion matrix\n",
    "10. classification report\n",
    "11. predict different values\n",
    "\n",
    "#### For quantum\n",
    "1. import the required modules\n",
    "2. define the adhoc_dimension, adhoc_feature_map\n",
    "3. define sampler and kernel\n",
    "4. define model that is QSVC\n",
    "5. fit the model\n",
    "6. confusion matrix\n",
    "7. classifcation report\n",
    "8. again predict with another data"
   ]
  },
  {
   "cell_type": "code",
   "execution_count": 21,
   "id": "e71f2a35-8f47-4ed1-906a-feb90f770e11",
   "metadata": {},
   "outputs": [],
   "source": [
    "%matplotlib inline"
   ]
  },
  {
   "cell_type": "markdown",
   "id": "9c8f76cc-04ad-4779-acd6-81789417a67b",
   "metadata": {},
   "source": [
    "## CML"
   ]
  },
  {
   "cell_type": "code",
   "execution_count": 22,
   "id": "36a973cd-6f2d-4b87-a6b6-e721e2968482",
   "metadata": {},
   "outputs": [],
   "source": [
    "import pandas as pd\n",
    "import numpy as np\n",
    "from sklearn.model_selection import train_test_split\n",
    "from sklearn.svm import SVC\n",
    "from sklearn.metrics import classification_report, confusion_matrix\n",
    "import matplotlib.pyplot as plt\n",
    "import seaborn as sns"
   ]
  },
  {
   "cell_type": "code",
   "execution_count": 23,
   "id": "f9ca3ed6-8121-4835-9e1a-6d48d0943c7d",
   "metadata": {},
   "outputs": [
    {
     "data": {
      "text/html": [
       "<div>\n",
       "<style scoped>\n",
       "    .dataframe tbody tr th:only-of-type {\n",
       "        vertical-align: middle;\n",
       "    }\n",
       "\n",
       "    .dataframe tbody tr th {\n",
       "        vertical-align: top;\n",
       "    }\n",
       "\n",
       "    .dataframe thead th {\n",
       "        text-align: right;\n",
       "    }\n",
       "</style>\n",
       "<table border=\"1\" class=\"dataframe\">\n",
       "  <thead>\n",
       "    <tr style=\"text-align: right;\">\n",
       "      <th></th>\n",
       "      <th>sepal_length</th>\n",
       "      <th>sepal_width</th>\n",
       "      <th>petal_length</th>\n",
       "      <th>petal_width</th>\n",
       "      <th>species</th>\n",
       "    </tr>\n",
       "  </thead>\n",
       "  <tbody>\n",
       "    <tr>\n",
       "      <th>0</th>\n",
       "      <td>5.1</td>\n",
       "      <td>3.5</td>\n",
       "      <td>1.4</td>\n",
       "      <td>0.2</td>\n",
       "      <td>setosa</td>\n",
       "    </tr>\n",
       "    <tr>\n",
       "      <th>1</th>\n",
       "      <td>4.9</td>\n",
       "      <td>3.0</td>\n",
       "      <td>1.4</td>\n",
       "      <td>0.2</td>\n",
       "      <td>setosa</td>\n",
       "    </tr>\n",
       "    <tr>\n",
       "      <th>2</th>\n",
       "      <td>4.7</td>\n",
       "      <td>3.2</td>\n",
       "      <td>1.3</td>\n",
       "      <td>0.2</td>\n",
       "      <td>setosa</td>\n",
       "    </tr>\n",
       "    <tr>\n",
       "      <th>3</th>\n",
       "      <td>4.6</td>\n",
       "      <td>3.1</td>\n",
       "      <td>1.5</td>\n",
       "      <td>0.2</td>\n",
       "      <td>setosa</td>\n",
       "    </tr>\n",
       "    <tr>\n",
       "      <th>4</th>\n",
       "      <td>5.0</td>\n",
       "      <td>3.6</td>\n",
       "      <td>1.4</td>\n",
       "      <td>0.2</td>\n",
       "      <td>setosa</td>\n",
       "    </tr>\n",
       "    <tr>\n",
       "      <th>...</th>\n",
       "      <td>...</td>\n",
       "      <td>...</td>\n",
       "      <td>...</td>\n",
       "      <td>...</td>\n",
       "      <td>...</td>\n",
       "    </tr>\n",
       "    <tr>\n",
       "      <th>145</th>\n",
       "      <td>6.7</td>\n",
       "      <td>3.0</td>\n",
       "      <td>5.2</td>\n",
       "      <td>2.3</td>\n",
       "      <td>virginica</td>\n",
       "    </tr>\n",
       "    <tr>\n",
       "      <th>146</th>\n",
       "      <td>6.3</td>\n",
       "      <td>2.5</td>\n",
       "      <td>5.0</td>\n",
       "      <td>1.9</td>\n",
       "      <td>virginica</td>\n",
       "    </tr>\n",
       "    <tr>\n",
       "      <th>147</th>\n",
       "      <td>6.5</td>\n",
       "      <td>3.0</td>\n",
       "      <td>5.2</td>\n",
       "      <td>2.0</td>\n",
       "      <td>virginica</td>\n",
       "    </tr>\n",
       "    <tr>\n",
       "      <th>148</th>\n",
       "      <td>6.2</td>\n",
       "      <td>3.4</td>\n",
       "      <td>5.4</td>\n",
       "      <td>2.3</td>\n",
       "      <td>virginica</td>\n",
       "    </tr>\n",
       "    <tr>\n",
       "      <th>149</th>\n",
       "      <td>5.9</td>\n",
       "      <td>3.0</td>\n",
       "      <td>5.1</td>\n",
       "      <td>1.8</td>\n",
       "      <td>virginica</td>\n",
       "    </tr>\n",
       "  </tbody>\n",
       "</table>\n",
       "<p>150 rows × 5 columns</p>\n",
       "</div>"
      ],
      "text/plain": [
       "     sepal_length  sepal_width  petal_length  petal_width    species\n",
       "0             5.1          3.5           1.4          0.2     setosa\n",
       "1             4.9          3.0           1.4          0.2     setosa\n",
       "2             4.7          3.2           1.3          0.2     setosa\n",
       "3             4.6          3.1           1.5          0.2     setosa\n",
       "4             5.0          3.6           1.4          0.2     setosa\n",
       "..            ...          ...           ...          ...        ...\n",
       "145           6.7          3.0           5.2          2.3  virginica\n",
       "146           6.3          2.5           5.0          1.9  virginica\n",
       "147           6.5          3.0           5.2          2.0  virginica\n",
       "148           6.2          3.4           5.4          2.3  virginica\n",
       "149           5.9          3.0           5.1          1.8  virginica\n",
       "\n",
       "[150 rows x 5 columns]"
      ]
     },
     "execution_count": 23,
     "metadata": {},
     "output_type": "execute_result"
    }
   ],
   "source": [
    "df_iris = pd.read_csv('iris.csv')\n",
    "df_iris"
   ]
  },
  {
   "cell_type": "code",
   "execution_count": 24,
   "id": "317d5a7a-f151-4440-a8d8-016d555cbcef",
   "metadata": {},
   "outputs": [],
   "source": [
    "iris_data = pd.DataFrame(df_iris, columns = ['sepal_length', 'sepal_width', 'petal_length', 'petal_width'])\n",
    "iris_target = pd.DataFrame(df_iris, columns = ['species'])   \n",
    "# iris_data\n",
    "# iris_target"
   ]
  },
  {
   "cell_type": "code",
   "execution_count": 25,
   "id": "76252c50-7e9c-4514-8364-d73dcabba085",
   "metadata": {},
   "outputs": [
    {
     "name": "stdout",
     "output_type": "stream",
     "text": [
      "Confusion matrix\n",
      "[[21  0  0]\n",
      " [ 0 14  0]\n",
      " [ 0  1  9]] \n",
      "\n",
      "Classification report\n",
      "              precision    recall  f1-score   support\n",
      "\n",
      "      setosa       1.00      1.00      1.00        21\n",
      "  versicolor       0.93      1.00      0.97        14\n",
      "   virginica       1.00      0.90      0.95        10\n",
      "\n",
      "    accuracy                           0.98        45\n",
      "   macro avg       0.98      0.97      0.97        45\n",
      "weighted avg       0.98      0.98      0.98        45\n",
      "\n",
      "Predict the flower type for data sepal (4,4,4,4) and Petal (4.4, 4.4)\n"
     ]
    },
    {
     "data": {
      "text/plain": [
       "array(['virginica'], dtype=object)"
      ]
     },
     "execution_count": 25,
     "metadata": {},
     "output_type": "execute_result"
    }
   ],
   "source": [
    "x = iris_data[['sepal_length', 'sepal_width', 'petal_length', 'petal_width']]\n",
    "y = iris_target[['species']]\n",
    "x_train, x_test, y_train, y_test = train_test_split(x,y,test_size = 0.30)\n",
    "C = 1.0\n",
    "csvm_model = SVC()\n",
    "csvm_model.fit(x_train.values, y_train.values.ravel())\n",
    "csvm_pred = csvm_model.predict(x_test.values)\n",
    "print(\"Confusion matrix\")\n",
    "print(confusion_matrix(y_test,csvm_pred),'\\n')\n",
    "print('Classification report')\n",
    "print(classification_report(y_test,csvm_pred))\n",
    "print(\"Predict the flower type for data sepal (4,4,4,4) and Petal (4.4, 4.4)\")\n",
    "csvm_model.predict([[4.4, 4.4, 4.4, 4.4]])"
   ]
  },
  {
   "cell_type": "markdown",
   "id": "e06482d2-d281-4ba9-9250-d3a79f728fc0",
   "metadata": {},
   "source": [
    "## QML"
   ]
  },
  {
   "cell_type": "code",
   "execution_count": 26,
   "id": "4332a323-431f-4282-8b76-dbf139a17538",
   "metadata": {},
   "outputs": [],
   "source": [
    "from qiskit.circuit.library import ZZFeatureMap\n",
    "from qiskit.primitives import Sampler\n",
    "from qiskit_algorithms.state_fidelities import ComputeUncompute\n",
    "from qiskit_machine_learning.kernels import FidelityQuantumKernel\n",
    "adhoc_dimension = 2\n",
    "adhoc_feature_map = ZZFeatureMap(feature_dimension = adhoc_dimension, reps = 2,entanglement = \"linear\")\n",
    "# Classical data is encoded into qubit angles\n",
    "sampler = Sampler()\n",
    "fidelity = ComputeUncompute(sampler = sampler)\n",
    "adhoc_kernel = FidelityQuantumKernel(fidelity = fidelity, feature_map = adhoc_feature_map)"
   ]
  },
  {
   "cell_type": "code",
   "execution_count": 27,
   "id": "ae0f4a3c-5222-4ce4-83c4-928712b68c3a",
   "metadata": {},
   "outputs": [
    {
     "name": "stdout",
     "output_type": "stream",
     "text": [
      "Confusion matrix\n",
      "[[17  2  2]\n",
      " [ 0 13  1]\n",
      " [ 1  3  6]]\n",
      "Classification report\n",
      "              precision    recall  f1-score   support\n",
      "\n",
      "      setosa       0.94      0.81      0.87        21\n",
      "  versicolor       0.72      0.93      0.81        14\n",
      "   virginica       0.67      0.60      0.63        10\n",
      "\n",
      "    accuracy                           0.80        45\n",
      "   macro avg       0.78      0.78      0.77        45\n",
      "weighted avg       0.81      0.80      0.80        45\n",
      "\n",
      "Predict the flower type for data sepal (4.4,4.4) and petal (4.4, 4.4)\n"
     ]
    },
    {
     "data": {
      "text/plain": [
       "array(['virginica'], dtype=object)"
      ]
     },
     "execution_count": 27,
     "metadata": {},
     "output_type": "execute_result"
    }
   ],
   "source": [
    "from qiskit_machine_learning.algorithms import QSVC\n",
    "\n",
    "qsvm_model = QSVC(quantum_kernel = adhoc_kernel)\n",
    "qsvm_model.fit(x_train, y_train.values.ravel())\n",
    "qsvm_pred = qsvm_model.predict(x_test)\n",
    "print(\"Confusion matrix\")\n",
    "print(confusion_matrix(y_test,qsvm_pred))\n",
    "print(\"Classification report\")\n",
    "print(classification_report(y_test, qsvm_pred))\n",
    "print(\"Predict the flower type for data sepal (4.4,4.4) and petal (4.4, 4.4)\")\n",
    "qsvm_model.predict([[4.4,4.4,4.4,4.4]])"
   ]
  },
  {
   "cell_type": "code",
   "execution_count": null,
   "id": "55eef71f-aed8-4f6f-8859-0fc45144044b",
   "metadata": {},
   "outputs": [],
   "source": []
  }
 ],
 "metadata": {
  "kernelspec": {
   "display_name": "Python 3 (ipykernel)",
   "language": "python",
   "name": "python3"
  },
  "language_info": {
   "codemirror_mode": {
    "name": "ipython",
    "version": 3
   },
   "file_extension": ".py",
   "mimetype": "text/x-python",
   "name": "python",
   "nbconvert_exporter": "python",
   "pygments_lexer": "ipython3",
   "version": "3.12.2"
  }
 },
 "nbformat": 4,
 "nbformat_minor": 5
}
